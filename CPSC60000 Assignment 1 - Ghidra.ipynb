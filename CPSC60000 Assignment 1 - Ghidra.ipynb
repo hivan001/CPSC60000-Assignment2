{
 "cells": [
  {
   "cell_type": "code",
   "execution_count": 25,
   "id": "cef18285",
   "metadata": {},
   "outputs": [],
   "source": [
    "import pandas as pd\n",
    "import seaborn as sns"
   ]
  },
  {
   "cell_type": "code",
   "execution_count": 9,
   "id": "55b6680c",
   "metadata": {},
   "outputs": [
    {
     "data": {
      "text/html": [
       "<div>\n",
       "<style scoped>\n",
       "    .dataframe tbody tr th:only-of-type {\n",
       "        vertical-align: middle;\n",
       "    }\n",
       "\n",
       "    .dataframe tbody tr th {\n",
       "        vertical-align: top;\n",
       "    }\n",
       "\n",
       "    .dataframe thead th {\n",
       "        text-align: right;\n",
       "    }\n",
       "</style>\n",
       "<table border=\"1\" class=\"dataframe\">\n",
       "  <thead>\n",
       "    <tr style=\"text-align: right;\">\n",
       "      <th></th>\n",
       "      <th>file</th>\n",
       "      <th>class</th>\n",
       "      <th>type</th>\n",
       "      <th>wmc</th>\n",
       "      <th>lcom</th>\n",
       "      <th>lcom*</th>\n",
       "      <th>loc</th>\n",
       "    </tr>\n",
       "  </thead>\n",
       "  <tbody>\n",
       "    <tr>\n",
       "      <th>0</th>\n",
       "      <td>C:\\Users\\holgu\\Downloads\\CPSC60000\\ghidra_11.0...</td>\n",
       "      <td>SWIG.BreakpointEventType</td>\n",
       "      <td>class</td>\n",
       "      <td>11</td>\n",
       "      <td>15</td>\n",
       "      <td>0.833333</td>\n",
       "      <td>44</td>\n",
       "    </tr>\n",
       "    <tr>\n",
       "      <th>1</th>\n",
       "      <td>C:\\Users\\holgu\\Downloads\\CPSC60000\\ghidra_11.0...</td>\n",
       "      <td>MachoProcessBindScript</td>\n",
       "      <td>class</td>\n",
       "      <td>57</td>\n",
       "      <td>36</td>\n",
       "      <td>0.000000</td>\n",
       "      <td>342</td>\n",
       "    </tr>\n",
       "    <tr>\n",
       "      <th>2</th>\n",
       "      <td>C:\\Users\\holgu\\Downloads\\CPSC60000\\ghidra_11.0...</td>\n",
       "      <td>SWIG.StopShowColumn</td>\n",
       "      <td>class</td>\n",
       "      <td>11</td>\n",
       "      <td>15</td>\n",
       "      <td>0.833333</td>\n",
       "      <td>35</td>\n",
       "    </tr>\n",
       "    <tr>\n",
       "      <th>3</th>\n",
       "      <td>C:\\Users\\holgu\\Downloads\\CPSC60000\\ghidra_11.0...</td>\n",
       "      <td>SWIG.StateType</td>\n",
       "      <td>class</td>\n",
       "      <td>11</td>\n",
       "      <td>15</td>\n",
       "      <td>0.833333</td>\n",
       "      <td>44</td>\n",
       "    </tr>\n",
       "    <tr>\n",
       "      <th>4</th>\n",
       "      <td>C:\\Users\\holgu\\Downloads\\CPSC60000\\ghidra_11.0...</td>\n",
       "      <td>AssociateExternalPELibrariesScript</td>\n",
       "      <td>class</td>\n",
       "      <td>10</td>\n",
       "      <td>1</td>\n",
       "      <td>0.000000</td>\n",
       "      <td>46</td>\n",
       "    </tr>\n",
       "  </tbody>\n",
       "</table>\n",
       "</div>"
      ],
      "text/plain": [
       "                                                file  \\\n",
       "0  C:\\Users\\holgu\\Downloads\\CPSC60000\\ghidra_11.0...   \n",
       "1  C:\\Users\\holgu\\Downloads\\CPSC60000\\ghidra_11.0...   \n",
       "2  C:\\Users\\holgu\\Downloads\\CPSC60000\\ghidra_11.0...   \n",
       "3  C:\\Users\\holgu\\Downloads\\CPSC60000\\ghidra_11.0...   \n",
       "4  C:\\Users\\holgu\\Downloads\\CPSC60000\\ghidra_11.0...   \n",
       "\n",
       "                                class   type  wmc  lcom     lcom*  loc  \n",
       "0            SWIG.BreakpointEventType  class   11    15  0.833333   44  \n",
       "1              MachoProcessBindScript  class   57    36  0.000000  342  \n",
       "2                 SWIG.StopShowColumn  class   11    15  0.833333   35  \n",
       "3                      SWIG.StateType  class   11    15  0.833333   44  \n",
       "4  AssociateExternalPELibrariesScript  class   10     1  0.000000   46  "
      ]
     },
     "execution_count": 9,
     "metadata": {},
     "output_type": "execute_result"
    }
   ],
   "source": [
    "data = pd.read_csv(r'C:\\Users\\holgu\\Downloads\\CPSC60000class.csv')\n",
    "\n",
    "data.head()"
   ]
  },
  {
   "cell_type": "code",
   "execution_count": 16,
   "id": "5b9b6057",
   "metadata": {},
   "outputs": [],
   "source": [
    "data=data.drop(columns='lcom')"
   ]
  },
  {
   "cell_type": "code",
   "execution_count": 17,
   "id": "277cab66",
   "metadata": {},
   "outputs": [],
   "source": [
    "data=data.rename(columns={'lcom*':'lcom'})"
   ]
  },
  {
   "cell_type": "code",
   "execution_count": 41,
   "id": "b73ed77f",
   "metadata": {
    "scrolled": true
   },
   "outputs": [
    {
     "data": {
      "text/html": [
       "<div>\n",
       "<style scoped>\n",
       "    .dataframe tbody tr th:only-of-type {\n",
       "        vertical-align: middle;\n",
       "    }\n",
       "\n",
       "    .dataframe tbody tr th {\n",
       "        vertical-align: top;\n",
       "    }\n",
       "\n",
       "    .dataframe thead th {\n",
       "        text-align: right;\n",
       "    }\n",
       "</style>\n",
       "<table border=\"1\" class=\"dataframe\">\n",
       "  <thead>\n",
       "    <tr style=\"text-align: right;\">\n",
       "      <th></th>\n",
       "      <th>wmc</th>\n",
       "      <th>lcom</th>\n",
       "      <th>loc</th>\n",
       "    </tr>\n",
       "  </thead>\n",
       "  <tbody>\n",
       "    <tr>\n",
       "      <th>count</th>\n",
       "      <td>520.000000</td>\n",
       "      <td>512.000000</td>\n",
       "      <td>520.000000</td>\n",
       "    </tr>\n",
       "    <tr>\n",
       "      <th>mean</th>\n",
       "      <td>26.092308</td>\n",
       "      <td>0.330957</td>\n",
       "      <td>96.094231</td>\n",
       "    </tr>\n",
       "    <tr>\n",
       "      <th>std</th>\n",
       "      <td>118.582179</td>\n",
       "      <td>0.361598</td>\n",
       "      <td>280.471425</td>\n",
       "    </tr>\n",
       "    <tr>\n",
       "      <th>min</th>\n",
       "      <td>0.000000</td>\n",
       "      <td>0.000000</td>\n",
       "      <td>2.000000</td>\n",
       "    </tr>\n",
       "    <tr>\n",
       "      <th>25%</th>\n",
       "      <td>5.000000</td>\n",
       "      <td>0.000000</td>\n",
       "      <td>26.000000</td>\n",
       "    </tr>\n",
       "    <tr>\n",
       "      <th>50%</th>\n",
       "      <td>11.000000</td>\n",
       "      <td>0.000000</td>\n",
       "      <td>44.000000</td>\n",
       "    </tr>\n",
       "    <tr>\n",
       "      <th>75%</th>\n",
       "      <td>21.000000</td>\n",
       "      <td>0.678571</td>\n",
       "      <td>83.000000</td>\n",
       "    </tr>\n",
       "    <tr>\n",
       "      <th>max</th>\n",
       "      <td>2270.000000</td>\n",
       "      <td>1.000000</td>\n",
       "      <td>4716.000000</td>\n",
       "    </tr>\n",
       "  </tbody>\n",
       "</table>\n",
       "</div>"
      ],
      "text/plain": [
       "               wmc        lcom          loc\n",
       "count   520.000000  512.000000   520.000000\n",
       "mean     26.092308    0.330957    96.094231\n",
       "std     118.582179    0.361598   280.471425\n",
       "min       0.000000    0.000000     2.000000\n",
       "25%       5.000000    0.000000    26.000000\n",
       "50%      11.000000    0.000000    44.000000\n",
       "75%      21.000000    0.678571    83.000000\n",
       "max    2270.000000    1.000000  4716.000000"
      ]
     },
     "execution_count": 41,
     "metadata": {},
     "output_type": "execute_result"
    }
   ],
   "source": [
    "data.describe()"
   ]
  },
  {
   "cell_type": "code",
   "execution_count": 36,
   "id": "3cf39da0",
   "metadata": {},
   "outputs": [
    {
     "data": {
      "image/png": "[encoded data removed]",
      "text/plain": [
       "<Figure size 432x288 with 1 Axes>"
      ]
     },
     "metadata": {
      "needs_background": "light"
     },
     "output_type": "display_data"
    }
   ],
   "source": [
    "lcomBox = sns.boxplot(data=data, x='lcom')"
   ]
  },
  {
   "cell_type": "code",
   "execution_count": 40,
   "id": "ea45eb92",
   "metadata": {},
   "outputs": [
    {
     "data": {
      "image/png": "[encoded data removed]",
      "text/plain": [
       "<Figure size 432x288 with 1 Axes>"
      ]
     },
     "metadata": {
      "needs_background": "light"
     },
     "output_type": "display_data"
    }
   ],
   "source": [
    "wmcBox = sns.boxplot(data=data, x='wmc')"
   ]
  },
  {
   "cell_type": "code",
   "execution_count": 53,
   "id": "63dacb99",
   "metadata": {},
   "outputs": [
    {
     "name": "stdout",
     "output_type": "stream",
     "text": [
      "74                                SWIG.lldbJNI\n",
      "130        classrecovery.RTTIGccClassRecoverer\n",
      "415         classrecovery.RecoveredClassHelper\n",
      "451    classrecovery.RTTIWindowsClassRecoverer\n",
      "Name: class, dtype: object\n"
     ]
    }
   ],
   "source": [
    "outliers = data[data['wmc'] > 300]\n",
    "\n",
    "print(outliers['class'])"
   ]
  },
  {
   "cell_type": "code",
   "execution_count": 54,
   "id": "37fb979f",
   "metadata": {},
   "outputs": [
    {
     "data": {
      "image/png": "[encoded data removed]",
      "text/plain": [
       "<Figure size 432x288 with 1 Axes>"
      ]
     },
     "metadata": {
      "needs_background": "light"
     },
     "output_type": "display_data"
    }
   ],
   "source": [
    "cleanedWmc = data[data['wmc']< 300]\n",
    "\n",
    "cleanedWmc = sns.boxplot(data=cleanedWmc, x='wmc')"
   ]
  },
  {
   "cell_type": "code",
   "execution_count": null,
   "id": "5ff26d83",
   "metadata": {},
   "outputs": [],
   "source": []
  }
 ],
 "metadata": {
  "kernelspec": {
   "display_name": "Python 3 (ipykernel)",
   "language": "python",
   "name": "python3"
  },
  "language_info": {
   "codemirror_mode": {
    "name": "ipython",
    "version": 3
   },
   "file_extension": ".py",
   "mimetype": "text/x-python",
   "name": "python",
   "nbconvert_exporter": "python",
   "pygments_lexer": "ipython3",
   "version": "3.9.7"
  }
 },
 "nbformat": 4,
 "nbformat_minor": 5
}
